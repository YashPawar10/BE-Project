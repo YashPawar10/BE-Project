{
 "cells": [
  {
   "cell_type": "code",
   "execution_count": 1,
   "id": "7f25918d-d6c6-41e6-b1f4-de9483097d4f",
   "metadata": {},
   "outputs": [
    {
     "name": "stdout",
     "output_type": "stream",
     "text": [
      "Requirement already satisfied: p2j in c:\\users\\dell\\appdata\\local\\programs\\python\\python312\\lib\\site-packages (1.3.2)\n",
      "Note: you may need to restart the kernel to use updated packages.\n"
     ]
    }
   ],
   "source": [
    "pip install p2j"
   ]
  },
  {
   "cell_type": "code",
   "execution_count": 5,
   "id": "6bea0e55-f991-41fd-8b1f-a2888b2e2eb5",
   "metadata": {},
   "outputs": [],
   "source": [
    "# ipynb-py-convert plot.py \"E:\\Project\\python codes\\1234.ipynb\"\n",
    "pwd"
   ]
  },
  {
   "cell_type": "code",
   "execution_count": 7,
   "id": "142a23a2-43e1-4585-8af1-b4404e9e97d4",
   "metadata": {},
   "outputs": [
    {
     "ename": "SyntaxError",
     "evalue": "invalid syntax (2657283886.py, line 1)",
     "output_type": "error",
     "traceback": [
      "\u001b[1;36m  Cell \u001b[1;32mIn[7], line 1\u001b[1;36m\u001b[0m\n\u001b[1;33m    ipynb-py-convert \"E:/Project/python codes/1234.ipynb\" plot.py\u001b[0m\n\u001b[1;37m                     ^\u001b[0m\n\u001b[1;31mSyntaxError\u001b[0m\u001b[1;31m:\u001b[0m invalid syntax\n"
     ]
    }
   ],
   "source": [
    "p2j myscript.ipynb"
   ]
  },
  {
   "cell_type": "code",
   "execution_count": null,
   "id": "65be45db-df4f-4fb3-8636-d37f56b78da9",
   "metadata": {},
   "outputs": [],
   "source": []
  }
 ],
 "metadata": {
  "kernelspec": {
   "display_name": "Python 3 (ipykernel)",
   "language": "python",
   "name": "python3"
  },
  "language_info": {
   "codemirror_mode": {
    "name": "ipython",
    "version": 3
   },
   "file_extension": ".py",
   "mimetype": "text/x-python",
   "name": "python",
   "nbconvert_exporter": "python",
   "pygments_lexer": "ipython3",
   "version": "3.12.1"
  }
 },
 "nbformat": 4,
 "nbformat_minor": 5
}
